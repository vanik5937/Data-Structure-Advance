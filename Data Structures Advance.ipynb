{
 "cells": [
  {
   "cell_type": "markdown",
   "id": "0cbfa055-f885-4b1b-ac5c-635576249a38",
   "metadata": {},
   "source": [
    "# Data Structures in python"
   ]
  },
  {
   "cell_type": "markdown",
   "id": "9e513519-d5c1-4235-a9a2-16ec2d289630",
   "metadata": {},
   "source": [
    "### 1 Write  a code to reverse a string"
   ]
  },
  {
   "cell_type": "code",
   "execution_count": 1,
   "id": "0f50fc27-7947-42b5-9ec4-e8f139dd49f3",
   "metadata": {},
   "outputs": [
    {
     "data": {
      "text/plain": [
       "'ilapur ma i olleh'"
      ]
     },
     "execution_count": 1,
     "metadata": {},
     "output_type": "execute_result"
    }
   ],
   "source": [
    "my_str=\"hello i am rupali\"\n",
    "my_str[::-1]"
   ]
  },
  {
   "cell_type": "markdown",
   "id": "2af49fe9-f1ab-40f0-a894-02abee075726",
   "metadata": {},
   "source": [
    "### 2 Write a code to count the number of vowels in a string."
   ]
  },
  {
   "cell_type": "code",
   "execution_count": 67,
   "id": "e09705cd-0b6a-41c7-ad52-050279470d58",
   "metadata": {},
   "outputs": [
    {
     "name": "stdout",
     "output_type": "stream",
     "text": [
      "9\n"
     ]
    }
   ],
   "source": [
    "count_vowel=\"i love to code in jupyter\"\n",
    "count=0\n",
    "for i in count_vowel:\n",
    "    if i in \"aeiou\":\n",
    "        count+=1\n",
    "print(count)                      "
   ]
  },
  {
   "cell_type": "markdown",
   "id": "36b831ee-a95e-45da-9510-6be12b40cdf8",
   "metadata": {},
   "source": [
    "### 3  Write code to check  if  given string is  palindrome or not"
   ]
  },
  {
   "cell_type": "code",
   "execution_count": 75,
   "id": "d28849e1-1089-42ce-8a45-ec994fac9bfd",
   "metadata": {},
   "outputs": [],
   "source": [
    "def check_palindrome(a):\n",
    "    if a[::1]==a[::-1]:\n",
    "        result=\"true\"\n",
    "    else:\n",
    "        result=\"false\"\n",
    "    return(result)    "
   ]
  },
  {
   "cell_type": "code",
   "execution_count": 76,
   "id": "d0f28a34-678e-4f25-acff-9164031cd3c1",
   "metadata": {
    "scrolled": true
   },
   "outputs": [
    {
     "data": {
      "text/plain": [
       "'true'"
      ]
     },
     "execution_count": 76,
     "metadata": {},
     "output_type": "execute_result"
    }
   ],
   "source": [
    "check_palindrome(\"mom\")"
   ]
  },
  {
   "cell_type": "code",
   "execution_count": 77,
   "id": "3fe87c46-732e-42d0-94a3-6fcd77b5c67a",
   "metadata": {},
   "outputs": [
    {
     "data": {
      "text/plain": [
       "'false'"
      ]
     },
     "execution_count": 77,
     "metadata": {},
     "output_type": "execute_result"
    }
   ],
   "source": [
    "check_palindrome(\"rupali\")"
   ]
  },
  {
   "cell_type": "code",
   "execution_count": 79,
   "id": "4a7b2d65-f11f-47af-ab14-f40fef31c3e6",
   "metadata": {},
   "outputs": [
    {
     "data": {
      "text/plain": [
       "'true'"
      ]
     },
     "execution_count": 79,
     "metadata": {},
     "output_type": "execute_result"
    }
   ],
   "source": [
    "check_palindrome(\"16461\")"
   ]
  },
  {
   "cell_type": "code",
   "execution_count": 80,
   "id": "49d4feb9-1bdb-41cc-b95b-df861dd33d8d",
   "metadata": {},
   "outputs": [
    {
     "data": {
      "text/plain": [
       "'false'"
      ]
     },
     "execution_count": 80,
     "metadata": {},
     "output_type": "execute_result"
    }
   ],
   "source": [
    "check_palindrome(\"1646123\")"
   ]
  },
  {
   "cell_type": "markdown",
   "id": "293561aa-8cf8-47de-9077-19a2758b5759",
   "metadata": {},
   "source": [
    "### 4 Write a code to check if two given string are anagrams of each other"
   ]
  },
  {
   "cell_type": "code",
   "execution_count": 104,
   "id": "5dd8dda2-b9bb-4fde-9577-f27036a4ccc4",
   "metadata": {},
   "outputs": [],
   "source": [
    "str1=\"listen\"\n",
    "str2=\"silent\" "
   ]
  },
  {
   "cell_type": "code",
   "execution_count": 126,
   "id": "83c59e7e-b36a-4203-a760-3db045c90a47",
   "metadata": {},
   "outputs": [],
   "source": [
    "def check_anagrams(a,b):\n",
    "    a=a.lower().replace(\" \",\"\")\n",
    "    b=b.lower().replace(\" \",\"\")\n",
    "    if sorted(a)==sorted(b):\n",
    "        result=True\n",
    "    else:\n",
    "        result=False\n",
    "    return(result)    \n",
    "        "
   ]
  },
  {
   "cell_type": "code",
   "execution_count": 127,
   "id": "1368c889-d1d8-455a-a9e4-6980ed537b78",
   "metadata": {},
   "outputs": [
    {
     "data": {
      "text/plain": [
       "True"
      ]
     },
     "execution_count": 127,
     "metadata": {},
     "output_type": "execute_result"
    }
   ],
   "source": [
    "check_anagrams(str1,str2)"
   ]
  },
  {
   "cell_type": "code",
   "execution_count": 128,
   "id": "1e3bc06f-9f5a-48e5-98b0-8272b0e235e6",
   "metadata": {},
   "outputs": [],
   "source": [
    "str3=\"hello\"\n",
    "str4=\"world\""
   ]
  },
  {
   "cell_type": "code",
   "execution_count": 129,
   "id": "23fbcade-0eb4-4895-9951-ba9ad3111644",
   "metadata": {},
   "outputs": [
    {
     "data": {
      "text/plain": [
       "False"
      ]
     },
     "execution_count": 129,
     "metadata": {},
     "output_type": "execute_result"
    }
   ],
   "source": [
    "check_anagrams(str3,str4)"
   ]
  },
  {
   "cell_type": "markdown",
   "id": "392e0f2d-8f1f-4307-833c-4d814dc5d56c",
   "metadata": {},
   "source": [
    "### 5 Write a code to find all occurrences of  given substring within another string"
   ]
  },
  {
   "cell_type": "code",
   "execution_count": 7,
   "id": "76896a4f-5adf-400b-bac9-50f8dec9795d",
   "metadata": {},
   "outputs": [
    {
     "name": "stdout",
     "output_type": "stream",
     "text": [
      "{'this': 1, 'is': 1}\n"
     ]
    }
   ],
   "source": [
    "str1= \"this is my first line coding \"\n",
    "str2= \"this  this is is is\"\n",
    "common_dict={}\n",
    "count=0\n",
    "for i in str2.split():\n",
    "    if i in str1.split():\n",
    "        common_dict[i]=count+1\n",
    "    result=common_dict\n",
    "print(result)    \n"
   ]
  },
  {
   "cell_type": "code",
   "execution_count": null,
   "id": "6857e0fc-a07d-44f4-a6f8-439d9f51f362",
   "metadata": {},
   "outputs": [],
   "source": []
  },
  {
   "cell_type": "markdown",
   "id": "d4a87d6b-5372-48fc-b71b-626d9019d342",
   "metadata": {},
   "source": [
    "### 6 Write a code to perform basic string compression using the counts of repeated characters"
   ]
  },
  {
   "cell_type": "code",
   "execution_count": 2,
   "id": "591e16d8-19f4-4759-8ce1-8e8a47c5149b",
   "metadata": {
    "scrolled": true
   },
   "outputs": [
    {
     "name": "stdout",
     "output_type": "stream",
     "text": [
      "a4b3c2\n"
     ]
    }
   ],
   "source": [
    "my_str = \"aaaabbbcc\"\n",
    "my_str_1 = \"\"\n",
    "count = 1\n",
    "\n",
    "for i in range(1, len(my_str)):\n",
    "    if my_str[i] == my_str[i - 1]:\n",
    "        count += 1\n",
    "    else:\n",
    "        my_str_1 += my_str[i - 1] + str(count)\n",
    "        count = 1\n",
    "\n",
    "\n",
    "my_str_1 += my_str[-1] + str(count)\n",
    "\n",
    "print(my_str_1)  "
   ]
  },
  {
   "cell_type": "code",
   "execution_count": 67,
   "id": "8dc2ada4-1af5-4c87-a8b0-e024df61d738",
   "metadata": {},
   "outputs": [],
   "source": [
    " my_str_1 += my_str[i - 1] + str(count)"
   ]
  },
  {
   "cell_type": "code",
   "execution_count": 68,
   "id": "c1e4d73d-8ee5-41f1-89bb-c4b7f69c0f53",
   "metadata": {},
   "outputs": [
    {
     "data": {
      "text/plain": [
       "'a4b3c2c2c2c2c2c2'"
      ]
     },
     "execution_count": 68,
     "metadata": {},
     "output_type": "execute_result"
    }
   ],
   "source": [
    " my_str_1"
   ]
  },
  {
   "cell_type": "code",
   "execution_count": null,
   "id": "55bf1b4a-f45e-4ae2-98c9-a75e55f7aac5",
   "metadata": {},
   "outputs": [],
   "source": []
  },
  {
   "cell_type": "code",
   "execution_count": null,
   "id": "4835c4fc-df62-4a19-a23a-f72518d16199",
   "metadata": {},
   "outputs": [],
   "source": []
  },
  {
   "cell_type": "markdown",
   "id": "45789e88-fe67-4b25-8de6-21d93ca1db13",
   "metadata": {},
   "source": [
    "### 7 Write a code to determine if a string has all unique characters."
   ]
  },
  {
   "cell_type": "code",
   "execution_count": 24,
   "id": "9fff38a4-9a18-429f-a95f-8bffbcb8012b",
   "metadata": {},
   "outputs": [],
   "source": [
    "def unique_char(my_str):\n",
    "    if len(my_str) ==len(set(my_str)):\n",
    "        result=\"unique characters\"\n",
    "    else:\n",
    "        result=\"not unique characters\"\n",
    "    return(result)                "
   ]
  },
  {
   "cell_type": "code",
   "execution_count": 27,
   "id": "b3fd04cf-8119-451a-bfe2-99719bcbf72e",
   "metadata": {},
   "outputs": [
    {
     "data": {
      "text/plain": [
       "'not unique characters'"
      ]
     },
     "execution_count": 27,
     "metadata": {},
     "output_type": "execute_result"
    }
   ],
   "source": [
    "unique_char(\"hello\")"
   ]
  },
  {
   "cell_type": "code",
   "execution_count": 28,
   "id": "3528b960-4c77-48bf-8e2c-0304fd432a43",
   "metadata": {
    "scrolled": true
   },
   "outputs": [
    {
     "data": {
      "text/plain": [
       "'unique characters'"
      ]
     },
     "execution_count": 28,
     "metadata": {},
     "output_type": "execute_result"
    }
   ],
   "source": [
    "unique_char(\"world\")"
   ]
  },
  {
   "cell_type": "markdown",
   "id": "ae5165ed-0bdc-455e-9c5d-8f9ecf0d1ba6",
   "metadata": {},
   "source": [
    "### 8 Write a code to convert given string to uppercase or lowercase."
   ]
  },
  {
   "cell_type": "code",
   "execution_count": 16,
   "id": "9a959734-54f3-4fd2-8825-b663411ce851",
   "metadata": {},
   "outputs": [
    {
     "data": {
      "text/plain": [
       "'WE ARE TRYING TO BUILD ADVANCE CONCEPT IN PYTHON'"
      ]
     },
     "execution_count": 16,
     "metadata": {},
     "output_type": "execute_result"
    }
   ],
   "source": [
    "my_str= \"we are trying to build advance concept in python\"\n",
    "my_str.upper()"
   ]
  },
  {
   "cell_type": "code",
   "execution_count": 17,
   "id": "b1b732c5-66d8-4de8-abe5-686c53278fb8",
   "metadata": {},
   "outputs": [
    {
     "data": {
      "text/plain": [
       "'we are trying to build advance concept in python'"
      ]
     },
     "execution_count": 17,
     "metadata": {},
     "output_type": "execute_result"
    }
   ],
   "source": [
    "my_str.lower()"
   ]
  },
  {
   "cell_type": "markdown",
   "id": "d9184e41-b301-428b-abf8-ef026cda87ac",
   "metadata": {},
   "source": [
    "### 9 Write a code to count the number of words in a string"
   ]
  },
  {
   "cell_type": "code",
   "execution_count": 29,
   "id": "4c0801fb-c801-47c0-a318-0b5193add375",
   "metadata": {},
   "outputs": [],
   "source": [
    "string= \"we are trying to build advance concept in python\""
   ]
  },
  {
   "cell_type": "code",
   "execution_count": 31,
   "id": "461f56cc-1b90-4508-b2f0-1e3298430989",
   "metadata": {},
   "outputs": [
    {
     "name": "stdout",
     "output_type": "stream",
     "text": [
      "9\n"
     ]
    }
   ],
   "source": [
    "string=string.split()\n",
    "count=0\n",
    "for word in string:\n",
    "    count+=1\n",
    "print(count)    \n",
    "    "
   ]
  },
  {
   "cell_type": "markdown",
   "id": "73f9b579-090f-4450-bedc-546a951f9b52",
   "metadata": {},
   "source": [
    "### 10 Write a code to concatenate two strings without using the + operetor"
   ]
  },
  {
   "cell_type": "code",
   "execution_count": 32,
   "id": "b63adfb2-efa9-4396-8220-d98d8663cd96",
   "metadata": {},
   "outputs": [],
   "source": [
    "str1=\"welcome\"\n",
    "str2=\"to india\"\n",
    "con_str= \"\".join([str1,\" \",str2])"
   ]
  },
  {
   "cell_type": "code",
   "execution_count": 33,
   "id": "dd760196-0731-4e2c-abfd-097d05ed6135",
   "metadata": {},
   "outputs": [
    {
     "data": {
      "text/plain": [
       "'welcome to india'"
      ]
     },
     "execution_count": 33,
     "metadata": {},
     "output_type": "execute_result"
    }
   ],
   "source": [
    "con_str"
   ]
  },
  {
   "cell_type": "markdown",
   "id": "56471ae9-c118-4c10-8faf-600a72548aab",
   "metadata": {},
   "source": [
    "### 11 Write  code to remove all occurences of specific element from the list"
   ]
  },
  {
   "cell_type": "code",
   "execution_count": 39,
   "id": "decf8148-42e7-4f1e-8801-726f0015afd0",
   "metadata": {},
   "outputs": [],
   "source": [
    "list_1=[1,2,3,45,5,2,5,2]\n",
    "element_to_remove=2"
   ]
  },
  {
   "cell_type": "code",
   "execution_count": 45,
   "id": "63eef46b-84aa-45cb-8022-05ed7b98f964",
   "metadata": {},
   "outputs": [
    {
     "data": {
      "text/plain": [
       "[1, 3, 45, 5, 5]"
      ]
     },
     "execution_count": 45,
     "metadata": {},
     "output_type": "execute_result"
    }
   ],
   "source": [
    "[ i for i in list_1 if i!=element_to_remove ]"
   ]
  },
  {
   "cell_type": "markdown",
   "id": "95ebb08e-c0f1-4a98-8f6b-8981bf56ebd3",
   "metadata": {},
   "source": [
    "### 12  Implement code to find the second largest number in given list of integers."
   ]
  },
  {
   "cell_type": "code",
   "execution_count": 72,
   "id": "c50fcc9b-dbdc-4b7a-869a-ea228a2bc32e",
   "metadata": {},
   "outputs": [],
   "source": [
    "def find_second_largest(nums):\n",
    "    nums=sorted(nums)\n",
    "    result=nums[-2]\n",
    "    return(result)"
   ]
  },
  {
   "cell_type": "code",
   "execution_count": 73,
   "id": "6f5038f0-7346-448a-a6db-77d4f4c973c1",
   "metadata": {},
   "outputs": [
    {
     "data": {
      "text/plain": [
       "34"
      ]
     },
     "execution_count": 73,
     "metadata": {},
     "output_type": "execute_result"
    }
   ],
   "source": [
    "nums=[34,23,12,54,22]\n",
    "find_second_largest(nums)"
   ]
  },
  {
   "cell_type": "markdown",
   "id": "d3d6e4c0-9011-4832-b3b1-c2f335e9d43b",
   "metadata": {},
   "source": [
    "### 13 Create a code to count the occurence of each element in list and return dictionary with element as a keys and their counts as values\n"
   ]
  },
  {
   "cell_type": "code",
   "execution_count": 54,
   "id": "c867550a-97fd-4986-960d-babe95a1f062",
   "metadata": {},
   "outputs": [
    {
     "name": "stdout",
     "output_type": "stream",
     "text": [
      "{'orange': 1, 'apple': 2, 'banana': 1}\n"
     ]
    }
   ],
   "source": [
    "my_list=[\"orange\",\"apple\",\"banana\",\"apple\",\"apple\"]\n",
    "dic={}\n",
    "count=1\n",
    "for i in my_list:\n",
    "    if i not in dic:\n",
    "        dic[i]=count\n",
    "    else:\n",
    "        dic[i]=count+1\n",
    "print(dic)    \n"
   ]
  },
  {
   "cell_type": "markdown",
   "id": "f804b636-5784-4fc3-b943-b690bfc9da85",
   "metadata": {},
   "source": [
    "### 14 Write a code to reverse a list in-place without using any built-in reverse functions."
   ]
  },
  {
   "cell_type": "code",
   "execution_count": 58,
   "id": "98eddb6c-246b-456a-8077-d1b11d865037",
   "metadata": {},
   "outputs": [],
   "source": [
    "l=[1,2,3,45,\"hii\"]\n"
   ]
  },
  {
   "cell_type": "code",
   "execution_count": 59,
   "id": "efa34aba-9982-4ded-b711-5d959da6ca1b",
   "metadata": {},
   "outputs": [
    {
     "data": {
      "text/plain": [
       "['hii', 45, 3, 2, 1]"
      ]
     },
     "execution_count": 59,
     "metadata": {},
     "output_type": "execute_result"
    }
   ],
   "source": [
    "l[::-1]"
   ]
  },
  {
   "cell_type": "markdown",
   "id": "f5bcabb3-0035-4ab7-84d7-f2d1a930b8fc",
   "metadata": {},
   "source": [
    "### 15 Implement a code to find and remove duplicates from a list while preserving the original order of elements.\n"
   ]
  },
  {
   "cell_type": "code",
   "execution_count": 62,
   "id": "4b5715a3-ba3d-4385-a59b-a5622d20d674",
   "metadata": {},
   "outputs": [
    {
     "data": {
      "text/plain": [
       "[1, 2, 3, 4, 'hello', 'world', 'coding']"
      ]
     },
     "execution_count": 62,
     "metadata": {},
     "output_type": "execute_result"
    }
   ],
   "source": [
    "l=[1,2,1,3,4,\"hello\",\"world\",\"coding\",\"world\"]\n",
    "l1=[]\n",
    "for i in l:\n",
    "    if i not in l1:\n",
    "        l1.append(i)\n",
    "l1        \n"
   ]
  },
  {
   "cell_type": "markdown",
   "id": "11f28ffb-f090-4169-86d8-23f2f2b02466",
   "metadata": {},
   "source": [
    "### 16 Create a code to check if a given list is sorted (either in ascending or desending order) or not"
   ]
  },
  {
   "cell_type": "code",
   "execution_count": 77,
   "id": "eaaefd69-ca59-46ae-a504-9a0df19c0790",
   "metadata": {},
   "outputs": [],
   "source": [
    "l=[4,2,43,21,12,45]\n",
    "def check_list(l):\n",
    "    if l==sorted(l) or l== sorted(l,reverse=True):\n",
    "        result=True\n",
    "    else:\n",
    "        result=False\n",
    "    return(result)    "
   ]
  },
  {
   "cell_type": "code",
   "execution_count": 78,
   "id": "efb027bd-d916-4024-8bd4-d263130c0ba2",
   "metadata": {},
   "outputs": [
    {
     "data": {
      "text/plain": [
       "False"
      ]
     },
     "execution_count": 78,
     "metadata": {},
     "output_type": "execute_result"
    }
   ],
   "source": [
    "check_list(l)"
   ]
  },
  {
   "cell_type": "code",
   "execution_count": 79,
   "id": "a129fccf-5053-4910-8e27-1f1506f1e6c3",
   "metadata": {},
   "outputs": [
    {
     "data": {
      "text/plain": [
       "True"
      ]
     },
     "execution_count": 79,
     "metadata": {},
     "output_type": "execute_result"
    }
   ],
   "source": [
    "check_list([1,2,3,4])"
   ]
  },
  {
   "cell_type": "code",
   "execution_count": 80,
   "id": "bb05a147-447a-4c87-8b0c-55bb60798aab",
   "metadata": {},
   "outputs": [
    {
     "data": {
      "text/plain": [
       "True"
      ]
     },
     "execution_count": 80,
     "metadata": {},
     "output_type": "execute_result"
    }
   ],
   "source": [
    "check_list([4,3,2,1])"
   ]
  },
  {
   "cell_type": "markdown",
   "id": "00a924b4-80dc-40e7-9188-427c0fe07749",
   "metadata": {},
   "source": [
    "### 17 Write a code to merge two sorted list into single sorted list"
   ]
  },
  {
   "cell_type": "code",
   "execution_count": 51,
   "id": "67f28e20-7fc1-4c9c-980f-a383d3ccdf61",
   "metadata": {},
   "outputs": [],
   "source": [
    "def sorted_list(l,l1):\n",
    "    sorted_list_1=sorted(l)\n",
    "    sorted_list_2=sorted(l1)\n",
    "    final_list=sorted(sorted_list_1 + sorted_list_2)\n",
    "    return(final_list)\n"
   ]
  },
  {
   "cell_type": "code",
   "execution_count": 53,
   "id": "85e7aaea-0353-4b4b-8969-28e2f4d6b001",
   "metadata": {},
   "outputs": [
    {
     "data": {
      "text/plain": [
       "[1, 1, 2, 3, 4, 5, 6, 8, 9]"
      ]
     },
     "execution_count": 53,
     "metadata": {},
     "output_type": "execute_result"
    }
   ],
   "source": [
    "sorted_list([4,3,5,1],[9,6,8,1,2])"
   ]
  },
  {
   "cell_type": "markdown",
   "id": "02c1ec64-edf7-4fe0-85b2-d2953a0846b9",
   "metadata": {},
   "source": [
    "### 18 Implement a code to find the intersection of two given lists."
   ]
  },
  {
   "cell_type": "code",
   "execution_count": 57,
   "id": "34712f71-685d-46a1-8893-a25110d0fd10",
   "metadata": {},
   "outputs": [
    {
     "name": "stdout",
     "output_type": "stream",
     "text": [
      "[3, 4, 5]\n"
     ]
    }
   ],
   "source": [
    "list_1=[4,3,5,1,3,5]\n",
    "list_2=[5,4,3,7,5,2]\n",
    "result=set(list_1).intersection(set(list_2))\n",
    "print(list(result))"
   ]
  },
  {
   "cell_type": "markdown",
   "id": "855fe7ef-938f-4cf7-a1f4-1dbf0ab7d96a",
   "metadata": {},
   "source": [
    "### 19 Create a code to find the union of two lists without duplicates"
   ]
  },
  {
   "cell_type": "code",
   "execution_count": 83,
   "id": "c64c48a0-28ca-457d-b669-f0a8be5ae20e",
   "metadata": {},
   "outputs": [
    {
     "name": "stdout",
     "output_type": "stream",
     "text": [
      "[1, 2, 3, 4, 5, 7]\n"
     ]
    }
   ],
   "source": [
    "list_1=[4,3,5,1,3,5]\n",
    "list_2=[5,4,3,7,5,2]\n",
    "result=set(list_1).union(set(list_2))\n",
    "print(list(result))"
   ]
  },
  {
   "cell_type": "markdown",
   "id": "4963893f-eed5-4280-81f3-425c5a1af119",
   "metadata": {},
   "source": [
    "### 20 Write a code to shuffle given list randomly without using any built-in shuffle functions."
   ]
  },
  {
   "cell_type": "code",
   "execution_count": 31,
   "id": "3bf1f9a5-37e5-4aff-839b-6db1199d67d5",
   "metadata": {},
   "outputs": [],
   "source": [
    "def shuffle_list(a):\n",
    "    shuffled_list=[]\n",
    "    while len(shuffled_list)<len(a):\n",
    "        result=random.choice(a)\n",
    "        if result not in shuffled_list:\n",
    "            shuffled_list.append(result)\n",
    "    return(shuffled_list)\n"
   ]
  },
  {
   "cell_type": "code",
   "execution_count": 32,
   "id": "6eb5eac3-6d71-4d3e-adde-662758345a7d",
   "metadata": {
    "scrolled": true
   },
   "outputs": [
    {
     "data": {
      "text/plain": [
       "[1, 5, 4, 23, 2, 3]"
      ]
     },
     "execution_count": 32,
     "metadata": {},
     "output_type": "execute_result"
    }
   ],
   "source": [
    "l=[1,2,3,4,5,23]\n",
    "shuffle_list(l)"
   ]
  },
  {
   "cell_type": "markdown",
   "id": "0084c602-fc62-4bad-8a42-d570f6c9b3f9",
   "metadata": {},
   "source": [
    "### 21 Write a code that takes two tuples as input and returns new tuple containing elements that are common to both input tuples"
   ]
  },
  {
   "cell_type": "code",
   "execution_count": 59,
   "id": "178281e7-c17d-4cf9-a3d6-65971434d624",
   "metadata": {},
   "outputs": [],
   "source": [
    "def my_tup(tup_1,tup_2):\n",
    "    common_element=set(tup_1).intersection(tup_2)\n",
    "    result=tuple(common_element)\n",
    "    return(result)"
   ]
  },
  {
   "cell_type": "code",
   "execution_count": 61,
   "id": "ea7018f9-ab3d-4063-b952-5fa7be83558e",
   "metadata": {},
   "outputs": [
    {
     "data": {
      "text/plain": [
       "('delhi', 'ranchi')"
      ]
     },
     "execution_count": 61,
     "metadata": {},
     "output_type": "execute_result"
    }
   ],
   "source": [
    "a=(\"delhi\",\"kolkata\",\"ranchi\")\n",
    "b=(\"ranchi\",\"delhi\",\"patna\")   \n",
    "my_tup(a,b)"
   ]
  },
  {
   "cell_type": "markdown",
   "id": "cf0eaeb7-0ce2-45f6-b31b-4f66863fc444",
   "metadata": {},
   "source": [
    "### 22 Create code that prompts the user to enter two sets of integers seperated by commas. Then print the intersection of these two sets."
   ]
  },
  {
   "cell_type": "code",
   "execution_count": 63,
   "id": "2b82506a-5aff-40cc-be04-9e701caffa58",
   "metadata": {},
   "outputs": [],
   "source": [
    "def set_intersection(int_set_1,int_set_2):\n",
    "    common_elem=set(int_set_1).intersection(set(int_set_2))\n",
    "    result=common_elem\n",
    "    str_result=str(result).replace(\",\", \" \")\n",
    "    return(str_result) "
   ]
  },
  {
   "cell_type": "code",
   "execution_count": 65,
   "id": "77c30e75-a5ab-4866-9780-eeb9eeb46bd9",
   "metadata": {
    "scrolled": true
   },
   "outputs": [
    {
     "data": {
      "text/plain": [
       "'{3}'"
      ]
     },
     "execution_count": 65,
     "metadata": {},
     "output_type": "execute_result"
    }
   ],
   "source": [
    "set_intersection({1,2,3,4},{5,6,7,43,3})"
   ]
  },
  {
   "cell_type": "markdown",
   "id": "a57c4e7b-24a9-474a-a723-d2d052e140bb",
   "metadata": {},
   "source": [
    "###  23.Write a code to concatenate two tuples. The function should take two tuples as input and return  new tuple containing elements from both input tuples."
   ]
  },
  {
   "cell_type": "code",
   "execution_count": 103,
   "id": "a6703966-ccb0-47bf-ab05-f1b1322f60a2",
   "metadata": {},
   "outputs": [],
   "source": [
    "def concatenate_tuples(tuple1, tuple2):\n",
    "    return tuple1 + tuple2\n"
   ]
  },
  {
   "cell_type": "code",
   "execution_count": 104,
   "id": "a60f98a4-a2d8-414c-8a68-3f899a4c989f",
   "metadata": {},
   "outputs": [
    {
     "data": {
      "text/plain": [
       "(1, 2, 3, 4, 5, 6)"
      ]
     },
     "execution_count": 104,
     "metadata": {},
     "output_type": "execute_result"
    }
   ],
   "source": [
    "concatenate_tuples((1,2,3),(4,5,6))"
   ]
  },
  {
   "cell_type": "markdown",
   "id": "f37fef5d-a019-46ae-a803-ef670baaced8",
   "metadata": {},
   "source": [
    "### 24. Develop a code that prompts the user to input two sets of strings. Then print the elements that are present in the first set but not in the second set."
   ]
  },
  {
   "cell_type": "code",
   "execution_count": 75,
   "id": "b9190d7c-6ffe-460e-aba4-0b7f006f7d4a",
   "metadata": {},
   "outputs": [],
   "source": [
    "def string_set(string_1,string_2):\n",
    "    elem_of_string_1=string_1.split()\n",
    "    elem_of_string_2=string_2.split()\n",
    "    result=set(elem_of_string_1) - set(elem_of_string_2)\n",
    "    return(result)"
   ]
  },
  {
   "cell_type": "code",
   "execution_count": 77,
   "id": "7178992c-f5f3-4a15-b4cf-a693319e8b99",
   "metadata": {},
   "outputs": [
    {
     "data": {
      "text/plain": [
       "{'is', 'my', 'notebook', 'this', 'world'}"
      ]
     },
     "execution_count": 77,
     "metadata": {},
     "output_type": "execute_result"
    }
   ],
   "source": [
    "string_set(\"hello world this is my jupyter notebook\"\n",
    ",\"hello i am rupali working on jupyter here\")"
   ]
  },
  {
   "cell_type": "markdown",
   "id": "d5c48c9f-05f7-4deb-8278-b8f99c634212",
   "metadata": {},
   "source": [
    "### 25 Write a code that takes a tuple and two integers as input. The function should return a new tuple containing elements from the original tuple within the specified range of indices"
   ]
  },
  {
   "cell_type": "code",
   "execution_count": 79,
   "id": "66e8345e-49d7-4d66-9528-992f5cd6c7c3",
   "metadata": {},
   "outputs": [],
   "source": [
    "def sub_tuple(tup,start_index,end_index):\n",
    "    new_tuple=tup[start_index:end_index]\n",
    "    result=new_tuple\n",
    "    return(result)"
   ]
  },
  {
   "cell_type": "code",
   "execution_count": 81,
   "id": "9d34df82-9cc3-484d-a7f0-db83028aab14",
   "metadata": {},
   "outputs": [
    {
     "data": {
      "text/plain": [
       "(3, 4, 5)"
      ]
     },
     "execution_count": 81,
     "metadata": {},
     "output_type": "execute_result"
    }
   ],
   "source": [
    "sub_tuple((2,3,4,5,6,3,5),1,4)"
   ]
  },
  {
   "cell_type": "markdown",
   "id": "f57aa12f-7ef3-4400-98b8-ca8bd26005fb",
   "metadata": {},
   "source": [
    "### 26 Write a code that prompts the user to input two sets of character. Then print the union of these two sets."
   ]
  },
  {
   "cell_type": "code",
   "execution_count": 85,
   "id": "92fa4508-459e-45f3-88b4-72bc2521d5d0",
   "metadata": {},
   "outputs": [],
   "source": [
    "def set_union(a,b):\n",
    "    set_=set(a).union(set(b))\n",
    "    result=set_\n",
    "    return(result)\n",
    "    "
   ]
  },
  {
   "cell_type": "code",
   "execution_count": 86,
   "id": "1d360ee3-3ceb-457c-ad1f-6e78ee876852",
   "metadata": {},
   "outputs": [
    {
     "data": {
      "text/plain": [
       "{1, 2, 3, 4, 5}"
      ]
     },
     "execution_count": 86,
     "metadata": {},
     "output_type": "execute_result"
    }
   ],
   "source": [
    "set_union({1,3,2},{4,3,2,5})"
   ]
  },
  {
   "cell_type": "markdown",
   "id": "b13956bf-f287-4a3b-bb82-213ac565faa7",
   "metadata": {},
   "source": [
    "### 27 develop a code that takes tuple of integers as input. The function should return the maximum and minimum values from the tuple using tuple unpaking"
   ]
  },
  {
   "cell_type": "code",
   "execution_count": 104,
   "id": "047034bd-84a3-4d1a-a415-29c5c5734ded",
   "metadata": {},
   "outputs": [],
   "source": [
    "def find_max_min_value(a):\n",
    "    max_tup,min_tup=max(a),min(a)\n",
    "    result= max_tup,min_tup\n",
    "    return(result)"
   ]
  },
  {
   "cell_type": "code",
   "execution_count": 105,
   "id": "b15ea9e2-91cf-47e0-a757-2304bd8fd362",
   "metadata": {},
   "outputs": [
    {
     "data": {
      "text/plain": [
       "(44, 12)"
      ]
     },
     "execution_count": 105,
     "metadata": {},
     "output_type": "execute_result"
    }
   ],
   "source": [
    "#a=tuple(23,43,22,12,44)\n",
    "find_max_min_value((23,43,22,12,44))"
   ]
  },
  {
   "cell_type": "markdown",
   "id": "702ef69a-d011-42ca-af1e-48c1181da9e8",
   "metadata": {},
   "source": [
    "### 28 create a code that defines two sets of integers. Then print the union,intersection and difference of theses two sets."
   ]
  },
  {
   "cell_type": "code",
   "execution_count": 106,
   "id": "272b992f-90b3-4ccd-949e-f1be3ec043e7",
   "metadata": {},
   "outputs": [],
   "source": [
    "def integers_set(a,b):\n",
    "    union=a.union(b)\n",
    "    intersection=a.intersection(b)\n",
    "    difference=a-b\n",
    "    result=union,intersection,difference\n",
    "    return(result)\n",
    "    "
   ]
  },
  {
   "cell_type": "code",
   "execution_count": 107,
   "id": "fe5ccfdb-4a84-42e7-af4a-4bc8a01ae039",
   "metadata": {},
   "outputs": [
    {
     "data": {
      "text/plain": [
       "({2, 11, 31, 32, 33, 44, 54}, {31}, {2, 11, 33})"
      ]
     },
     "execution_count": 107,
     "metadata": {},
     "output_type": "execute_result"
    }
   ],
   "source": [
    "integers_set({2,31,33,11},{32,44,54,31})"
   ]
  },
  {
   "cell_type": "markdown",
   "id": "cb75857d-9c36-4b37-a734-c5f4175b854d",
   "metadata": {},
   "source": [
    "### 29 Write a code that takes a tuple and an element as input. The function should return the count of occurrences of the given elemets in the tuple."
   ]
  },
  {
   "cell_type": "code",
   "execution_count": 83,
   "id": "7814e2b0-2efe-4f25-8d20-aae6cc938575",
   "metadata": {},
   "outputs": [],
   "source": [
    "def count_occurence_tuple(tup,elem):\n",
    "    count=0\n",
    "    for i in tup:\n",
    "        if elem == i:\n",
    "            count+=1\n",
    "    result=count\n",
    "    return(result)\n"
   ]
  },
  {
   "cell_type": "code",
   "execution_count": 85,
   "id": "e8c69e73-51c6-4554-8223-dc2a9be25b7e",
   "metadata": {},
   "outputs": [
    {
     "data": {
      "text/plain": [
       "5"
      ]
     },
     "execution_count": 85,
     "metadata": {},
     "output_type": "execute_result"
    }
   ],
   "source": [
    "count_occurence_tuple((4,4,4,4,4,3,1,1,1),4)"
   ]
  },
  {
   "cell_type": "markdown",
   "id": "20a4439c-b5d6-42b3-b188-c32ef6c91314",
   "metadata": {},
   "source": [
    "### 30 develop a code that prompts the user to input two sets of strings. Then print the symmetric difference of these two sets"
   ]
  },
  {
   "cell_type": "code",
   "execution_count": 116,
   "id": "681e92a6-74bf-4406-a847-337da0e4c491",
   "metadata": {},
   "outputs": [],
   "source": [
    "def symmetric_diff(a,b):\n",
    "    union=a.union(b)\n",
    "    intersection=a.intersection(b)\n",
    "    result=union-intersection\n",
    "    return(result)"
   ]
  },
  {
   "cell_type": "code",
   "execution_count": 118,
   "id": "24534e8e-93f8-4c6a-8e51-da3a84889bfc",
   "metadata": {},
   "outputs": [
    {
     "data": {
      "text/plain": [
       "{'banana', 'cashew', 'dates', 'melon', 'pine'}"
      ]
     },
     "execution_count": 118,
     "metadata": {},
     "output_type": "execute_result"
    }
   ],
   "source": [
    "symmetric_diff({\"orange\",\"banana\",\"apple\",\"pine\",\"dates\"},{\"apple\",\"melon\",\"cashew\",\"orange\"})"
   ]
  },
  {
   "cell_type": "markdown",
   "id": "6884b7af-83c2-473d-b86a-81a21bca8579",
   "metadata": {},
   "source": [
    "### 31 Write a code that takes a list of words as input and returns a dictionary where the keys are unique words and the values are the frequencis of those words in the input list"
   ]
  },
  {
   "cell_type": "code",
   "execution_count": 12,
   "id": "7bccb862-765e-4cb4-b369-ed72f4168e05",
   "metadata": {},
   "outputs": [],
   "source": [
    "def word_freq(a):\n",
    "    word_dict={}\n",
    "    count=1\n",
    "    for i in a:\n",
    "        if i not in word_dict:\n",
    "            word_dict[i]=count\n",
    "        elif i in word_dict:\n",
    "            word_dict[i]=count+1\n",
    "        result=word_dict\n",
    "    return(result)\n",
    "        \n",
    "        "
   ]
  },
  {
   "cell_type": "code",
   "execution_count": 13,
   "id": "aab1aa72-0d3b-4843-afbb-0b1158d52230",
   "metadata": {},
   "outputs": [
    {
     "data": {
      "text/plain": [
       "{'ravi': 2, 'jiya': 2, 'tina': 1, 'ayush': 1}"
      ]
     },
     "execution_count": 13,
     "metadata": {},
     "output_type": "execute_result"
    }
   ],
   "source": [
    "word_freq([\"ravi\",\"jiya\",\"tina\",\"ayush\",\"jiya\",\"jiya\",\"ravi\"])"
   ]
  },
  {
   "cell_type": "markdown",
   "id": "57c27adb-fa7a-4c37-8633-9eb83b57e7a5",
   "metadata": {},
   "source": [
    "### 32 Write a code that takes two dictionaries as input and merges them into a single dictionary If there arecommon keys the values should be added together"
   ]
  },
  {
   "cell_type": "code",
   "execution_count": 9,
   "id": "f7f22fe2-5fb5-4569-aea7-c9217916f20a",
   "metadata": {},
   "outputs": [],
   "source": [
    "def my_dic(dict_1,dict_2):\n",
    "    merged_dict=dict_1.copy()\n",
    "    for key,value in dict_2.items():\n",
    "        if key in merged_dict:\n",
    "            merged_dict[key]+=value\n",
    "        else:\n",
    "            merged_dict[key]=value\n",
    "        result=merged_dict    \n",
    "    return(result)       \n"
   ]
  },
  {
   "cell_type": "code",
   "execution_count": 11,
   "id": "de5a4cc5-2d06-43ca-81b9-1450adf0f6cb",
   "metadata": {},
   "outputs": [
    {
     "data": {
      "text/plain": [
       "{'a': 5, 'b': 1, 'c': 4, 'd': 6, 'e': 8}"
      ]
     },
     "execution_count": 11,
     "metadata": {},
     "output_type": "execute_result"
    }
   ],
   "source": [
    "my_dic({\"a\":2,\"b\":1,\"c\":4},{\"a\":3,\"d\":6,\"e\":8})"
   ]
  },
  {
   "cell_type": "markdown",
   "id": "479079f4-bc0a-4f84-a5ea-12d5d5403c6e",
   "metadata": {},
   "source": [
    "### 33. Write a code to access a value in a nested dictionary. The function should take the dictionary and a list of keys as input and return the corresponding value. If any of the keys do not exist in the dictionary the function should return None."
   ]
  },
  {
   "cell_type": "code",
   "execution_count": 22,
   "id": "a0189412-e98a-474d-a1fa-c6f93c37c09d",
   "metadata": {},
   "outputs": [
    {
     "data": {
      "text/plain": [
       "10"
      ]
     },
     "execution_count": 22,
     "metadata": {},
     "output_type": "execute_result"
    }
   ],
   "source": [
    "def get_nested_value(nested_dict, key_list):\n",
    "    current_dict=nested_dict\n",
    "    for key in key_list:\n",
    "        if key in current_dict:\n",
    "            current_dict=current_dict[key]\n",
    "            result=current_dict\n",
    "        else:\n",
    "           result=None\n",
    "    return(result)       \n",
    "     \n",
    "test_dict = {\"a\": {\"b\": {\"c\": 10}}}\n",
    "keys = [\"a\", \"b\", \"c\"]\n",
    "\n",
    "get_nested_value(test_dict, keys)"
   ]
  },
  {
   "cell_type": "markdown",
   "id": "028c1c2c-b102-4f5f-b157-fd1157eb3563",
   "metadata": {},
   "source": [
    "### 34 Write a code that takes a dictionary as input and returns a sorted version of it based on the values. You can choose whether to sort in ascending or descending order"
   ]
  },
  {
   "cell_type": "code",
   "execution_count": 89,
   "id": "a22cadfc-3251-4361-aa51-3d15fa27723c",
   "metadata": {},
   "outputs": [
    {
     "data": {
      "text/plain": [
       "{'paris': [1, 2, 3], 'london': [2, 3, 6], 'england': [3, 4, 6]}"
      ]
     },
     "execution_count": 89,
     "metadata": {},
     "output_type": "execute_result"
    }
   ],
   "source": [
    "def sort_values(dic):\n",
    "    result = {}\n",
    "    for key, value in dic.items():\n",
    "        result[key] = sorted(value)\n",
    "    return result\n",
    "cities={\"paris\":[2,3, 1], \"london\":[3,2, 6], \"england\": [4,6,3]}    \n",
    "sort_values(cities)"
   ]
  },
  {
   "cell_type": "markdown",
   "id": "5740cc98-eb68-4d6f-b1e4-dc148942025f",
   "metadata": {},
   "source": [
    "### 35 Write a code that inverts a dictionary swapping keys and values Ensure that the inverted dictionary correctly handles cases where multiple keys have the same value by storing the keys as a list in the inverted dictionary"
   ]
  },
  {
   "cell_type": "code",
   "execution_count": 123,
   "id": "01353534-f5f9-43b5-9917-d02c25407bdd",
   "metadata": {},
   "outputs": [
    {
     "name": "stdout",
     "output_type": "stream",
     "text": [
      "{1: ['a', 'c'], 2: ['b']}\n"
     ]
    }
   ],
   "source": [
    "#my_dict = {\"a\": 1, \"b\": 2, \"c\": 1}\n",
    "#Output: {1: ['a', 'c'], 2: ['b']}\n",
    "def invert_dictionary(input_dict):\n",
    "    inverted_dict = {}\n",
    "    for key,value in input_dict.items():\n",
    "        if value not in inverted_dict:\n",
    "            inverted_dict[value]=[]\n",
    "        inverted_dict[value].append(key)\n",
    "    return(inverted_dict)       \n",
    "    \n",
    "#invert_dictionary(my_dict)\n",
    "# Example usage:\n",
    "my_dict = {\"a\": 1, \"b\": 2, \"c\": 1}\n",
    "inverted_dict = invert_dictionary(my_dict)\n",
    "print(inverted_dict)  # Output: {"
   ]
  },
  {
   "cell_type": "code",
   "execution_count": 111,
   "id": "64474379-0ba3-4cb8-95d3-b9a11d3eceb8",
   "metadata": {},
   "outputs": [
    {
     "name": "stdout",
     "output_type": "stream",
     "text": [
      "{1: ['a', 'c'], 2: ['b']}\n"
     ]
    }
   ],
   "source": [
    "def invert_dictionary(input_dict):\n",
    "  inverted_dict = {}\n",
    "  for key, value in input_dict.items():\n",
    "    if value not in inverted_dict:\n",
    "      inverted_dict[value] = []\n",
    "    inverted_dict[value].append(key)\n",
    "  return inverted_dict\n",
    "\n",
    "# Example usage:\n",
    "my_dict = {\"a\": 1, \"b\": 2, \"c\": 1}\n",
    "inverted_dict = invert_dictionary(my_dict)\n",
    "print(inverted_dict)  # Output: {1: ['a', 'c'], 2: ['b']}"
   ]
  },
  {
   "cell_type": "code",
   "execution_count": 113,
   "id": "40ece1c5-7de8-4472-974c-8c557ff4d284",
   "metadata": {},
   "outputs": [],
   "source": [
    "inverted_dict = invert_dictionary(my_dict)"
   ]
  },
  {
   "cell_type": "code",
   "execution_count": 115,
   "id": "3c821030-03e0-47d3-98a1-db304000f828",
   "metadata": {},
   "outputs": [
    {
     "data": {
      "text/plain": [
       "{1: ['a', 'c'], 2: ['b']}"
      ]
     },
     "execution_count": 115,
     "metadata": {},
     "output_type": "execute_result"
    }
   ],
   "source": [
    "inverted_dict"
   ]
  },
  {
   "cell_type": "code",
   "execution_count": 125,
   "id": "5bac0c67-6a6b-4b1c-9cda-ac2fa217bd6d",
   "metadata": {},
   "outputs": [
    {
     "ename": "NameError",
     "evalue": "name 'value' is not defined",
     "output_type": "error",
     "traceback": [
      "\u001b[1;31m---------------------------------------------------------------------------\u001b[0m",
      "\u001b[1;31mNameError\u001b[0m                                 Traceback (most recent call last)",
      "Cell \u001b[1;32mIn[125], line 1\u001b[0m\n\u001b[1;32m----> 1\u001b[0m a\u001b[38;5;241m=\u001b[39m inverted_dict[value]\n\u001b[0;32m      2\u001b[0m a\n",
      "\u001b[1;31mNameError\u001b[0m: name 'value' is not defined"
     ]
    }
   ],
   "source": [
    "a= inverted_dict[value]\n",
    "a"
   ]
  },
  {
   "cell_type": "code",
   "execution_count": null,
   "id": "f961cf48-a789-419c-a034-2f885a9cbf10",
   "metadata": {},
   "outputs": [],
   "source": []
  }
 ],
 "metadata": {
  "kernelspec": {
   "display_name": "Python 3 (ipykernel)",
   "language": "python",
   "name": "python3"
  },
  "language_info": {
   "codemirror_mode": {
    "name": "ipython",
    "version": 3
   },
   "file_extension": ".py",
   "mimetype": "text/x-python",
   "name": "python",
   "nbconvert_exporter": "python",
   "pygments_lexer": "ipython3",
   "version": "3.12.4"
  }
 },
 "nbformat": 4,
 "nbformat_minor": 5
}
